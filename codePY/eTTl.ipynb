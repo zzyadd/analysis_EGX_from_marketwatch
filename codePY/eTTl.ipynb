{
 "cells": [
  {
   "cell_type": "code",
   "execution_count": 16,
   "metadata": {},
   "outputs": [],
   "source": [
    "import pandas as pd\n",
    "import matplotlib as plt \n",
    "import numpy as np\n",
    "import seaborn as sns\n",
    "import scipy.stats as stats\n"
   ]
  },
  {
   "cell_type": "code",
   "execution_count": 17,
   "metadata": {},
   "outputs": [],
   "source": [
    "abuk=pd.read_csv(r'D:/EGX/ABUK.csv')"
   ]
  },
  {
   "cell_type": "code",
   "execution_count": 18,
   "metadata": {},
   "outputs": [
    {
     "data": {
      "text/html": [
       "<div>\n",
       "<style scoped>\n",
       "    .dataframe tbody tr th:only-of-type {\n",
       "        vertical-align: middle;\n",
       "    }\n",
       "\n",
       "    .dataframe tbody tr th {\n",
       "        vertical-align: top;\n",
       "    }\n",
       "\n",
       "    .dataframe thead th {\n",
       "        text-align: right;\n",
       "    }\n",
       "</style>\n",
       "<table border=\"1\" class=\"dataframe\">\n",
       "  <thead>\n",
       "    <tr style=\"text-align: right;\">\n",
       "      <th></th>\n",
       "      <th>Date</th>\n",
       "      <th>Open</th>\n",
       "      <th>High</th>\n",
       "      <th>Low</th>\n",
       "      <th>Close</th>\n",
       "      <th>Volume</th>\n",
       "    </tr>\n",
       "  </thead>\n",
       "  <tbody>\n",
       "    <tr>\n",
       "      <th>0</th>\n",
       "      <td>09/21/2023</td>\n",
       "      <td>..61.70</td>\n",
       "      <td>..62.40</td>\n",
       "      <td>..61.37</td>\n",
       "      <td>..62.35</td>\n",
       "      <td>431,929</td>\n",
       "    </tr>\n",
       "    <tr>\n",
       "      <th>1</th>\n",
       "      <td>09/20/2023</td>\n",
       "      <td>..62.43</td>\n",
       "      <td>..64.00</td>\n",
       "      <td>..61.51</td>\n",
       "      <td>..61.70</td>\n",
       "      <td>2,060,836</td>\n",
       "    </tr>\n",
       "    <tr>\n",
       "      <th>2</th>\n",
       "      <td>09/19/2023</td>\n",
       "      <td>..59.20</td>\n",
       "      <td>..62.99</td>\n",
       "      <td>..59.31</td>\n",
       "      <td>..62.43</td>\n",
       "      <td>1,211,989</td>\n",
       "    </tr>\n",
       "    <tr>\n",
       "      <th>3</th>\n",
       "      <td>09/18/2023</td>\n",
       "      <td>..59.49</td>\n",
       "      <td>..60.00</td>\n",
       "      <td>..58.94</td>\n",
       "      <td>..59.20</td>\n",
       "      <td>768,336</td>\n",
       "    </tr>\n",
       "    <tr>\n",
       "      <th>4</th>\n",
       "      <td>09/14/2023</td>\n",
       "      <td>..56.50</td>\n",
       "      <td>..59.00</td>\n",
       "      <td>..56.26</td>\n",
       "      <td>..58.00</td>\n",
       "      <td>845,599</td>\n",
       "    </tr>\n",
       "    <tr>\n",
       "      <th>...</th>\n",
       "      <td>...</td>\n",
       "      <td>...</td>\n",
       "      <td>...</td>\n",
       "      <td>...</td>\n",
       "      <td>...</td>\n",
       "      <td>...</td>\n",
       "    </tr>\n",
       "    <tr>\n",
       "      <th>192</th>\n",
       "      <td>09/29/2022</td>\n",
       "      <td>..24.40</td>\n",
       "      <td>..24.80</td>\n",
       "      <td>..24.26</td>\n",
       "      <td>..24.80</td>\n",
       "      <td>729,550</td>\n",
       "    </tr>\n",
       "    <tr>\n",
       "      <th>193</th>\n",
       "      <td>09/28/2022</td>\n",
       "      <td>..24.52</td>\n",
       "      <td>..24.52</td>\n",
       "      <td>..24.10</td>\n",
       "      <td>..24.40</td>\n",
       "      <td>933,927</td>\n",
       "    </tr>\n",
       "    <tr>\n",
       "      <th>194</th>\n",
       "      <td>09/27/2022</td>\n",
       "      <td>..24.50</td>\n",
       "      <td>..24.52</td>\n",
       "      <td>..24.20</td>\n",
       "      <td>..24.52</td>\n",
       "      <td>382,656</td>\n",
       "    </tr>\n",
       "    <tr>\n",
       "      <th>195</th>\n",
       "      <td>09/26/2022</td>\n",
       "      <td>..24.40</td>\n",
       "      <td>..24.82</td>\n",
       "      <td>..24.05</td>\n",
       "      <td>..24.50</td>\n",
       "      <td>1,411,188</td>\n",
       "    </tr>\n",
       "    <tr>\n",
       "      <th>196</th>\n",
       "      <td>09/22/2022</td>\n",
       "      <td>..23.74</td>\n",
       "      <td>..23.99</td>\n",
       "      <td>..23.17</td>\n",
       "      <td>..23.60</td>\n",
       "      <td>1,679,321</td>\n",
       "    </tr>\n",
       "  </tbody>\n",
       "</table>\n",
       "<p>197 rows × 6 columns</p>\n",
       "</div>"
      ],
      "text/plain": [
       "           Date     Open     High      Low    Close     Volume\n",
       "0    09/21/2023  ..61.70  ..62.40  ..61.37  ..62.35    431,929\n",
       "1    09/20/2023  ..62.43  ..64.00  ..61.51  ..61.70  2,060,836\n",
       "2    09/19/2023  ..59.20  ..62.99  ..59.31  ..62.43  1,211,989\n",
       "3    09/18/2023  ..59.49  ..60.00  ..58.94  ..59.20    768,336\n",
       "4    09/14/2023  ..56.50  ..59.00  ..56.26  ..58.00    845,599\n",
       "..          ...      ...      ...      ...      ...        ...\n",
       "192  09/29/2022  ..24.40  ..24.80  ..24.26  ..24.80    729,550\n",
       "193  09/28/2022  ..24.52  ..24.52  ..24.10  ..24.40    933,927\n",
       "194  09/27/2022  ..24.50  ..24.52  ..24.20  ..24.52    382,656\n",
       "195  09/26/2022  ..24.40  ..24.82  ..24.05  ..24.50  1,411,188\n",
       "196  09/22/2022  ..23.74  ..23.99  ..23.17  ..23.60  1,679,321\n",
       "\n",
       "[197 rows x 6 columns]"
      ]
     },
     "execution_count": 18,
     "metadata": {},
     "output_type": "execute_result"
    }
   ],
   "source": [
    "abuk"
   ]
  },
  {
   "cell_type": "code",
   "execution_count": 19,
   "metadata": {},
   "outputs": [],
   "source": [
    "abuk['Date'] = pd.to_datetime(abuk['Date'], format='%m/%d/%Y')\n"
   ]
  },
  {
   "cell_type": "code",
   "execution_count": 20,
   "metadata": {},
   "outputs": [],
   "source": [
    "abuk['Open']=abuk['Open'].apply(lambda x:x[2:])\n",
    "abuk['High']=abuk['High'].apply(lambda x:x[2:])\n",
    "abuk['Low']=abuk['Low'].apply(lambda x:x[2:])\n",
    "abuk['Close']=abuk['Close'].apply(lambda x:x[2:])"
   ]
  },
  {
   "cell_type": "code",
   "execution_count": 21,
   "metadata": {},
   "outputs": [],
   "source": [
    "abuk[['Open', 'High', 'Low', 'Close']] = abuk[['Open', 'High', 'Low', 'Close']].astype(float)"
   ]
  },
  {
   "cell_type": "code",
   "execution_count": 22,
   "metadata": {},
   "outputs": [
    {
     "name": "stdout",
     "output_type": "stream",
     "text": [
      "<class 'pandas.core.frame.DataFrame'>\n",
      "RangeIndex: 197 entries, 0 to 196\n",
      "Data columns (total 6 columns):\n",
      " #   Column  Non-Null Count  Dtype         \n",
      "---  ------  --------------  -----         \n",
      " 0   Date    197 non-null    datetime64[ns]\n",
      " 1   Open    197 non-null    float64       \n",
      " 2   High    197 non-null    float64       \n",
      " 3   Low     197 non-null    float64       \n",
      " 4   Close   197 non-null    float64       \n",
      " 5   Volume  197 non-null    object        \n",
      "dtypes: datetime64[ns](1), float64(4), object(1)\n",
      "memory usage: 9.4+ KB\n"
     ]
    }
   ],
   "source": [
    "abuk.info()"
   ]
  },
  {
   "cell_type": "code",
   "execution_count": 45,
   "metadata": {},
   "outputs": [],
   "source": [
    "hm_high=stats.hmean(abuk['High'][:30])\n",
    "hm_Low=stats.hmean(abuk['Low'][30:50])\n",
    "hm_Open=stats.hmean(abuk['Open'][:50])\n",
    "hm_Close=stats.hmean(abuk['Close'][:50])"
   ]
  },
  {
   "cell_type": "code",
   "execution_count": 46,
   "metadata": {},
   "outputs": [
    {
     "data": {
      "text/plain": [
       "15.000721531416724"
      ]
     },
     "execution_count": 46,
     "metadata": {},
     "output_type": "execute_result"
    }
   ],
   "source": [
    "hm_high_hm_Low=(hm_high-hm_Low)/(hm_Low)\n",
    "hm_high_hm_Low*100"
   ]
  },
  {
   "cell_type": "code",
   "execution_count": 39,
   "metadata": {},
   "outputs": [],
   "source": [
    "mean_high=np.mean(abuk['High'][:30])\n",
    "mean_Low=np.mean(abuk['Low'][30:50])\n",
    "mean_Open=np.mean(abuk['Open'][:50])\n",
    "mean_Close=np.mean(abuk['Close'][:50])"
   ]
  },
  {
   "cell_type": "code",
   "execution_count": 42,
   "metadata": {},
   "outputs": [
    {
     "data": {
      "text/plain": [
       "15.726290516206495"
      ]
     },
     "execution_count": 42,
     "metadata": {},
     "output_type": "execute_result"
    }
   ],
   "source": [
    "mean_high_mean_Low=(mean_high-mean_Low)/(mean_Low)\n",
    "mean_high_mean_Low*100"
   ]
  }
 ],
 "metadata": {
  "kernelspec": {
   "display_name": "base",
   "language": "python",
   "name": "python3"
  },
  "language_info": {
   "codemirror_mode": {
    "name": "ipython",
    "version": 3
   },
   "file_extension": ".py",
   "mimetype": "text/x-python",
   "name": "python",
   "nbconvert_exporter": "python",
   "pygments_lexer": "ipython3",
   "version": "3.11.3"
  },
  "orig_nbformat": 4
 },
 "nbformat": 4,
 "nbformat_minor": 2
}
